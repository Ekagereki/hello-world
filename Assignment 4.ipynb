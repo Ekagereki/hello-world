{
  "nbformat": 4,
  "nbformat_minor": 0,
  "metadata": {
    "colab": {
      "name": "Untitled0.ipynb",
      "provenance": [],
      "authorship_tag": "ABX9TyM8eATPXBi/3u44nCjm+FK1",
      "include_colab_link": true
    },
    "kernelspec": {
      "name": "python3",
      "display_name": "Python 3"
    },
    "language_info": {
      "name": "python"
    }
  },
  "cells": [
    {
      "cell_type": "markdown",
      "metadata": {
        "id": "view-in-github",
        "colab_type": "text"
      },
      "source": [
        "<a href=\"https://colab.research.google.com/github/ElijahMutua/hello-world/blob/main/Assignment%204.ipynb\" target=\"_parent\"><img src=\"https://colab.research.google.com/assets/colab-badge.svg\" alt=\"Open In Colab\"/></a>"
      ]
    },
    {
      "cell_type": "code",
      "metadata": {
        "colab": {
          "base_uri": "https://localhost:8080/"
        },
        "id": "ximxQ7JfPApG",
        "outputId": "f6ea8eda-4aab-475c-ba3a-b0b135fe7a60"
      },
      "source": [
        "First_name = input(\"First name:John Mutison Mutisya\")\n",
        "print(First_name)\n",
        "PhysicalAddress = input(\"Physical Address:435 Hidden Special Place\")\n",
        "print(PhysicalAddress)\n",
        "City = input(\"City:Kalamazoo\")\n",
        "print(City)\n",
        "State = input(\"State:Michigan\")\n",
        "print(State)\n",
        "Zipcode = input(\"Zipcode:49001\")\n",
        "print(Zipcode)\n",
        "New_House_Price = input(\"New House Price:245,000.00\")\n",
        "print(New_House_Price)\n",
        "Downpayment = input(\"Downpayment:20,000\")\n",
        "print(Downpayment)\n",
        "Credit_Score = input(\"Credit Score:679\")\n",
        "print(Credit_Score)\n",
        "Credit_Status = input(\"Credit status:Below Average\")\n",
        "print(Credit_Status)\n",
        "CONGRATULATIONS = input(\"CONGRATULATIONS-YOU NOW OWN YOUR DREAM HOME-James Mutison & Lucy Mutisya\")\n",
        "print(CONGRATULATIONS)"
      ],
      "execution_count": null,
      "outputs": [
        {
          "output_type": "stream",
          "text": [
            "First name:John Mutison Mutisya\n",
            "\n",
            "Physical Address:435 Hidden Special Place\n",
            "\n",
            "City:Kalamazoo\n",
            "\n",
            "State:Michigan\n",
            "\n",
            "Zipcode:49001\n",
            "\n",
            "New House Price:245,000.00\n",
            "\n",
            "Downpayment:20,000\n",
            "\n",
            "Credit Score:679\n",
            "\n",
            "Credit status:Below Average\n",
            "\n"
          ],
          "name": "stdout"
        }
      ]
    }
  ]
}