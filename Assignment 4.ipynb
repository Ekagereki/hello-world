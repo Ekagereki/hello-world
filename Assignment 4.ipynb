{
  "nbformat": 4,
  "nbformat_minor": 0,
  "metadata": {
    "colab": {
      "name": "Untitled2.ipynb",
      "provenance": [],
      "collapsed_sections": [],
      "authorship_tag": "ABX9TyMKWgtSH4I8k00nBJ8MyQr/",
      "include_colab_link": true
    },
    "kernelspec": {
      "name": "python3",
      "display_name": "Python 3"
    },
    "language_info": {
      "name": "python"
    }
  },
  "cells": [
    {
      "cell_type": "markdown",
      "metadata": {
        "id": "view-in-github",
        "colab_type": "text"
      },
      "source": [
        "<a href=\"https://colab.research.google.com/github/ElijahMutua/hello-world/blob/main/Assignment%204.ipynb\" target=\"_parent\"><img src=\"https://colab.research.google.com/assets/colab-badge.svg\" alt=\"Open In Colab\"/></a>"
      ]
    },
    {
      "cell_type": "code",
      "metadata": {
        "colab": {
          "base_uri": "https://localhost:8080/"
        },
        "id": "qD4Kk5i_Ad4z",
        "outputId": "1b834542-ffba-4014-cec4-51b04bb5261c"
      },
      "source": [
        "price = float(input(\"Enter the price: \"))\n",
        "#Enter the credit score\n",
        "CreditScore = int(input(\"Enter the credit score: \"))\n",
        "#Enter the first name\n",
        "first_name = input(\"Enter first name: \")\n",
        "#Enter the Physical Address\n",
        "Physical_Address = input(\"Enter the Physical Address: \")\n",
        "#Enter the City\n",
        "City = input(\"Enter the City: \")\n",
        "#Enter the State\n",
        "State = input(\"Enter the State: \")\n",
        "#Enter the Zipcode\n",
        "Zipcode = input(\"Enter the Zipcode: \")\n",
        "#Qualify for loans with the best interest rates\n",
        "if 780 <= CreditScore <= 850:\n",
        "    downpayment = 0.0 * price\n",
        "    print(\"Excellent Credit\")\n",
        "    print(\"downpayment =\" + str(downpayment))\n",
        "    price = downpayment + price\n",
        "#Usually qualify for loans with the best interest rates\n",
        "elif 740 <= CreditScore <= 779:\n",
        "    downpayment = 0.2 * price\n",
        "    print(\"Very Good\")\n",
        "    print(\"downpayment =\" + str(downpayment))\n",
        "    price = downpayment + price\n",
        "#May face slightly higher loan Interest rates\n",
        "elif CreditScore >= 720 and CreditScore <= 739:\n",
        "    downpayment = 0.3 * price\n",
        "    print(\"Above Average\")\n",
        "    print(\"downpayment =\" + str(downpayment))\n",
        "    price = downpayment + price\n",
        "\n",
        "#May qualify for most loans of higher interest rates\n",
        "\n",
        "elif CreditScore >= 680 and CreditScore <= 719:\n",
        "    downpayment = 0.6 * price\n",
        "    print(\"Average\")\n",
        "    print(\"downpayment =\" + str(downpayment))\n",
        "    price = downpayment + price\n",
        "#May qualify for most loans at significant higher Interest rates\n",
        "elif CreditScore >= 620 and CreditScore <= 679:\n",
        "    downpayment = 0.18 * price\n",
        "    print(\"Below Average\")\n",
        "    print(\"downpayment =\" + str(downpayment))\n",
        "    price = downpayment + price\n",
        "#Usually has some credit issues; will probably not qualify for most loans\n",
        "elif CreditScore >= 580 and CreditScore <= 619:\n",
        "    downpayment = 0.20 * price\n",
        "    print(\"Poor Credit Score\")\n",
        "    print(\"downpayment =\" + str(downpayment))\n",
        "    price = downpayment + price\n",
        "#Facing extreme credit issue\n",
        "elif CreditScore < 520 and CreditScore <=579:\n",
        "    downpayment = 0.25 * price\n",
        "    print(\"Poor Credit Score\")\n",
        "    print(\"downpayment =\" + str(downpayment))\n",
        "    price = downpayment + price\n",
        "else:\n",
        "    print(\"Not valid\")\n",
        "print(first_name)\n",
        "print(Physical_Address)\n",
        "print(City)\n",
        "print(State)\n",
        "print(Zipcode)\n",
        "print(price)\n",
        "print(CreditScore)"
      ],
      "execution_count": 1,
      "outputs": [
        {
          "output_type": "stream",
          "text": [
            "Enter the price: 279000\n",
            "Enter the credit score: 679\n",
            "Enter first name: John Mutiso Mutisya\n",
            "Enter the Physical Address: 435 Hidden Special Place\n",
            "Enter the City: Kalamzoo\n",
            "Enter the State: Michigan\n",
            "Enter the Zipcode: 49001\n",
            "Below Average\n",
            "downpayment =50220.0\n",
            "John Mutiso Mutisya\n",
            "435 Hidden Special Place\n",
            "Kalamzoo\n",
            "Michigan\n",
            "49001\n",
            "329220.0\n",
            "679\n"
          ],
          "name": "stdout"
        }
      ]
    }
  ]
}