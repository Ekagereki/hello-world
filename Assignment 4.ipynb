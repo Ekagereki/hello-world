{
  "nbformat": 4,
  "nbformat_minor": 0,
  "metadata": {
    "colab": {
      "name": "Untitled5.ipynb",
      "provenance": [],
      "authorship_tag": "ABX9TyOpw519KpaDqlndT295zxfV",
      "include_colab_link": true
    },
    "kernelspec": {
      "name": "python3",
      "display_name": "Python 3"
    },
    "language_info": {
      "name": "python"
    }
  },
  "cells": [
    {
      "cell_type": "markdown",
      "metadata": {
        "id": "view-in-github",
        "colab_type": "text"
      },
      "source": [
        "<a href=\"https://colab.research.google.com/github/ElijahMutua/hello-world/blob/main/Assignment%204.ipynb\" target=\"_parent\"><img src=\"https://colab.research.google.com/assets/colab-badge.svg\" alt=\"Open In Colab\"/></a>"
      ]
    },
    {
      "cell_type": "code",
      "metadata": {
        "colab": {
          "base_uri": "https://localhost:8080/"
        },
        "id": "djwxD3aiXJ2S",
        "outputId": "26ab74a6-c909-48b5-cc88-2f316bb6981b"
      },
      "source": [
        "#Assignment 4\n",
        "price = int(input(\"Enter the house price: \"))\n",
        "Credit_score = int(input(\"Enter the credit score: \"))\n",
        "first_name = str(input(\"Enter the first name: \"))\n",
        "last_name = str(input(\"Enter the last name: \"))\n",
        "Physical_Address = str(input(\"Enter the Physical Address: \"))\n",
        "city = str(input(\"Enter the City name: \"))\n",
        "state = str(input(\"Enter the State name: \"))\n",
        "zipcode = str(input(\"Enter the Zip code: \"))\n",
        "Credit_status = [\"Excellent Credit\", \"Very Good\", \"Above Average\", \"Average\", \"Below average\", \"Poor Credit Score\"]\n",
        "\n",
        "while Credit_score > 520:\n",
        "    if Credit_score > 780:\n",
        "        downPayment = 0.0 * price\n",
        "        credit_status = Credit_status[0]\n",
        "        break\n",
        "    elif Credit_score > 740:\n",
        "        downPayment = 0.2 * price\n",
        "        credit_status = Credit_status[1]\n",
        "        break\n",
        "    elif Credit_score > 720:\n",
        "        downPayment = 0.3 * price\n",
        "        credit_status = Credit_status[2]\n",
        "        break\n",
        "    elif Credit_score > 680:\n",
        "        downPayment = 0.6 * price\n",
        "        credit_status = Credit_status[3]\n",
        "        break\n",
        "    elif Credit_score > 620:\n",
        "        downPayment = 0.18 * price\n",
        "        credit_status = Credit_status[4]\n",
        "        break\n",
        "    else:\n",
        "        downPayment = 0.20 * price\n",
        "        credit_status = Credit_status[5]\n",
        "        break\n",
        "else:\n",
        "    downPayment = 0.25 * price\n",
        "    credit_status = Credit_status[5]\n",
        "\n",
        "print(f'First Name:{first_name}\\nPhysical Address:{Physical_Address}\\nCity:{city} State:{state} Zipcode:{zipcode}')\n",
        "print(\" \")\n",
        "print(\" \")\n",
        "print(f'New House Price:{price}\\nDown Payment:{downPayment}\\nCredit score:{Credit_score}\\nCredit Status:{credit_status}')\n",
        "print(\" \")\n",
        "print(\" \")\n",
        "print(f'CONGRATULATIONS!!! YOU NOW OWN YOUR OWN DREAM HOUSE-{first_name} & {last_name}')\n"
      ],
      "execution_count": 2,
      "outputs": [
        {
          "output_type": "stream",
          "text": [
            "Enter the house price: 245000\n",
            "Enter the credit score: 679\n",
            "Enter the first name: John Mutison Mutisya\n",
            "Enter the last name: Lucy Mutisya\n",
            "Enter the Physical Address: 435 Hidden Special Place\n",
            "Enter the City name: Kalamzoo\n",
            "Enter the State name: Michigan\n",
            "Enter the Zip code: 49001\n",
            "First Name:John Mutison Mutisya\n",
            "Physical Address:435 Hidden Special Place\n",
            "City:Kalamzoo State:Michigan Zipcode:49001\n",
            " \n",
            " \n",
            "New House Price:245000\n",
            "Down Payment:44100.0\n",
            "Credit score:679\n",
            "Credit Status:Below average\n",
            " \n",
            " \n",
            "CONGRATULATIONS!!! YOU NOW OWN YOUR OWN DREAM HOUSE-John Mutison Mutisya & Lucy Mutisya\n"
          ],
          "name": "stdout"
        }
      ]
    }
  ]
}